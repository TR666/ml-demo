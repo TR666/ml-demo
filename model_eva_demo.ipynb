{
 "cells": [
  {
   "cell_type": "code",
   "execution_count": 1,
   "metadata": {},
   "outputs": [],
   "source": [
    "from sklearn import datasets\n",
    "iris = datasets.load_iris()\n",
    "X = iris.data\n",
    "y = iris.target"
   ]
  },
  {
   "cell_type": "code",
   "execution_count": 2,
   "metadata": {},
   "outputs": [],
   "source": [
    "#数据分离\n",
    "from sklearn.model_selection import train_test_split\n",
    "X_train, X_test, y_train, y_test = train_test_split(X,y,test_size = 0.4)"
   ]
  },
  {
   "cell_type": "code",
   "execution_count": 3,
   "metadata": {},
   "outputs": [
    {
     "name": "stdout",
     "output_type": "stream",
     "text": [
      "(90, 4) (60, 4) (90,) (60,)\n"
     ]
    }
   ],
   "source": [
    "#数据分离后的维度确认\n",
    "print(X_train.shape, X_test.shape, y_train.shape, y_test.shape)"
   ]
  },
  {
   "cell_type": "code",
   "execution_count": 4,
   "metadata": {},
   "outputs": [],
   "source": [
    "#分离后数据集的训练与评估\n",
    "#  Knn_5\n",
    "from sklearn.neighbors import KNeighborsClassifier\n",
    "knn_5 = KNeighborsClassifier(n_neighbors = 5)\n",
    "knn_5.fit(X_train, y_train)\n",
    "y_train_pred = knn_5.predict(X_train)\n",
    "y_test_pred = knn_5.predict(X_test)\n"
   ]
  },
  {
   "cell_type": "code",
   "execution_count": 5,
   "metadata": {},
   "outputs": [
    {
     "name": "stdout",
     "output_type": "stream",
     "text": [
      "训练准确率:\n",
      "0.9777777777777777\n",
      "测试准确率:\n",
      "0.9666666666666667\n"
     ]
    }
   ],
   "source": [
    "#模型的预测准确率\n",
    "from sklearn.metrics import accuracy_score\n",
    "print(\"训练准确率:\")\n",
    "print(accuracy_score(y_train, y_train_pred))\n",
    "print(\"测试准确率:\")\n",
    "print(accuracy_score(y_test, y_test_pred))"
   ]
  },
  {
   "cell_type": "code",
   "execution_count": 6,
   "metadata": {},
   "outputs": [],
   "source": [
    "#分离后数据集的训练与评估\n",
    "#  Knn_1\n",
    "knn_1 = KNeighborsClassifier(n_neighbors = 1)\n",
    "knn_1.fit(X_train, y_train)\n",
    "y_train_pred = knn_1.predict(X_train)\n",
    "y_test_pred = knn_1.predict(X_test)"
   ]
  },
  {
   "cell_type": "code",
   "execution_count": 7,
   "metadata": {},
   "outputs": [
    {
     "name": "stdout",
     "output_type": "stream",
     "text": [
      "训练准确率:\n",
      "1.0\n",
      "测试准确率:\n",
      "0.9666666666666667\n"
     ]
    }
   ],
   "source": [
    "#模型的预测准确率\n",
    "from sklearn.metrics import accuracy_score\n",
    "print(\"训练准确率:\")\n",
    "print(accuracy_score(y_train, y_train_pred))\n",
    "print(\"测试准确率:\")\n",
    "print(accuracy_score(y_test, y_test_pred))"
   ]
  },
  {
   "cell_type": "code",
   "execution_count": 8,
   "metadata": {},
   "outputs": [],
   "source": [
    "# k: 1-25\n",
    "# 遍历所有可能的参数组合\n",
    "# 建立相应的模型\n",
    "# model 的训练--》预测\n",
    "# 准确率计算\n",
    "# 准确率对比"
   ]
  },
  {
   "cell_type": "code",
   "execution_count": 9,
   "metadata": {},
   "outputs": [
    {
     "name": "stdout",
     "output_type": "stream",
     "text": [
      "[1, 2, 3, 4, 5, 6, 7, 8, 9, 10, 11, 12, 13, 14, 15, 16, 17, 18, 19, 20, 21, 22, 23, 24, 25]\n"
     ]
    }
   ],
   "source": [
    "k_range = list(range(1,26))\n",
    "print(k_range)"
   ]
  },
  {
   "cell_type": "code",
   "execution_count": 10,
   "metadata": {},
   "outputs": [],
   "source": [
    "score_train = []\n",
    "score_test = []\n",
    "for k in k_range:\n",
    "    knn = KNeighborsClassifier(n_neighbors=k)\n",
    "    knn.fit(X_train, y_train)\n",
    "    y_train_pred = knn.predict(X_train)\n",
    "    y_test_pred = knn.predict(X_test)\n",
    "    score_train.append(accuracy_score(y_train,y_train_pred))\n",
    "    score_test.append(accuracy_score(y_test,y_test_pred))"
   ]
  },
  {
   "cell_type": "code",
   "execution_count": 11,
   "metadata": {},
   "outputs": [
    {
     "name": "stdout",
     "output_type": "stream",
     "text": [
      "当k=1时,训练集准确率为： 1.0 ---测试集准确率为： 0.9666666666666667 \n",
      "\n",
      "当k=2时,训练集准确率为： 0.9555555555555556 ---测试集准确率为： 0.95 \n",
      "\n",
      "当k=3时,训练集准确率为： 0.9666666666666667 ---测试集准确率为： 0.9666666666666667 \n",
      "\n",
      "当k=4时,训练集准确率为： 0.9666666666666667 ---测试集准确率为： 0.9666666666666667 \n",
      "\n",
      "当k=5时,训练集准确率为： 0.9777777777777777 ---测试集准确率为： 0.9666666666666667 \n",
      "\n",
      "当k=6时,训练集准确率为： 0.9777777777777777 ---测试集准确率为： 0.9666666666666667 \n",
      "\n",
      "当k=7时,训练集准确率为： 0.9777777777777777 ---测试集准确率为： 0.9666666666666667 \n",
      "\n",
      "当k=8时,训练集准确率为： 0.9777777777777777 ---测试集准确率为： 0.9833333333333333 \n",
      "\n",
      "当k=9时,训练集准确率为： 0.9777777777777777 ---测试集准确率为： 0.9833333333333333 \n",
      "\n",
      "当k=10时,训练集准确率为： 0.9777777777777777 ---测试集准确率为： 0.9833333333333333 \n",
      "\n",
      "当k=11时,训练集准确率为： 0.9777777777777777 ---测试集准确率为： 0.9833333333333333 \n",
      "\n",
      "当k=12时,训练集准确率为： 0.9777777777777777 ---测试集准确率为： 1.0 \n",
      "\n",
      "当k=13时,训练集准确率为： 0.9777777777777777 ---测试集准确率为： 0.9833333333333333 \n",
      "\n",
      "当k=14时,训练集准确率为： 0.9777777777777777 ---测试集准确率为： 1.0 \n",
      "\n",
      "当k=15时,训练集准确率为： 0.9777777777777777 ---测试集准确率为： 1.0 \n",
      "\n",
      "当k=16时,训练集准确率为： 0.9777777777777777 ---测试集准确率为： 1.0 \n",
      "\n",
      "当k=17时,训练集准确率为： 0.9777777777777777 ---测试集准确率为： 0.9666666666666667 \n",
      "\n",
      "当k=18时,训练集准确率为： 0.9666666666666667 ---测试集准确率为： 0.9833333333333333 \n",
      "\n",
      "当k=19时,训练集准确率为： 0.9777777777777777 ---测试集准确率为： 0.9833333333333333 \n",
      "\n",
      "当k=20时,训练集准确率为： 0.9666666666666667 ---测试集准确率为： 0.9666666666666667 \n",
      "\n",
      "当k=21时,训练集准确率为： 0.9555555555555556 ---测试集准确率为： 0.95 \n",
      "\n",
      "当k=22时,训练集准确率为： 0.9444444444444444 ---测试集准确率为： 0.9833333333333333 \n",
      "\n",
      "当k=23时,训练集准确率为： 0.9444444444444444 ---测试集准确率为： 0.9833333333333333 \n",
      "\n",
      "当k=24时,训练集准确率为： 0.9333333333333333 ---测试集准确率为： 0.9833333333333333 \n",
      "\n",
      "当k=25时,训练集准确率为： 0.9333333333333333 ---测试集准确率为： 0.9666666666666667 \n",
      "\n"
     ]
    }
   ],
   "source": [
    "for i in k_range:\n",
    "    print(\"当k={}时,训练集准确率为：\".format(i),score_train[i-1],\"---测试集准确率为：\",score_test[i-1],\"\\n\")"
   ]
  },
  {
   "cell_type": "code",
   "execution_count": 12,
   "metadata": {},
   "outputs": [
    {
     "data": {
      "text/plain": [
       "Text(0, 0.5, 'Train Accuracy')"
      ]
     },
     "execution_count": 12,
     "metadata": {},
     "output_type": "execute_result"
    },
    {
     "data": {
      "image/png": "[encoded data removed]",
      "text/plain": [
       "<Figure size 432x288 with 1 Axes>"
      ]
     },
     "metadata": {
      "needs_background": "light"
     },
     "output_type": "display_data"
    }
   ],
   "source": [
    "# 图形展示\n",
    "import matplotlib.pyplot as plt\n",
    "%matplotlib inline\n",
    "# 展示K值与训练集预测准确率之间的关系\n",
    "plt.plot(k_range, score_train)\n",
    "plt.xlabel('K(KNN model)')\n",
    "plt.ylabel('Train Accuracy')"
   ]
  },
  {
   "cell_type": "code",
   "execution_count": 13,
   "metadata": {},
   "outputs": [
    {
     "data": {
      "text/plain": [
       "Text(0, 0.5, 'Test Accuracy')"
      ]
     },
     "execution_count": 13,
     "metadata": {},
     "output_type": "execute_result"
    },
    {
     "data": {
      "image/png": "[encoded data removed]",
      "text/plain": [
       "<Figure size 432x288 with 1 Axes>"
      ]
     },
     "metadata": {
      "needs_background": "light"
     },
     "output_type": "display_data"
    }
   ],
   "source": [
    "# 展示K值与训练集预测准确率之间的关系\n",
    "plt.plot(k_range, score_test)\n",
    "plt.xlabel('K(KNN model)')\n",
    "plt.ylabel('Test Accuracy')\n"
   ]
  }
 ],
 "metadata": {
  "kernelspec": {
   "display_name": "Python 3",
   "language": "python",
   "name": "python3"
  },
  "language_info": {
   "codemirror_mode": {
    "name": "ipython",
    "version": 3
   },
   "file_extension": ".py",
   "mimetype": "text/x-python",
   "name": "python",
   "nbconvert_exporter": "python",
   "pygments_lexer": "ipython3",
   "version": "3.7.4"
  }
 },
 "nbformat": 4,
 "nbformat_minor": 2
}
